{
 "cells": [
  {
   "cell_type": "code",
   "execution_count": 1,
   "metadata": {},
   "outputs": [],
   "source": [
    "import pandas as pd\n",
    "import numpy as np\n",
    "from sklearn.model_selection import train_test_split\n",
    "from sklearn.model_selection import KFold\n",
    "from sklearn.ensemble import RandomForestRegressor, BaggingRegressor\n",
    "from sklearn.metrics import mean_squared_error\n",
    "import holidays\n",
    "import matplotlib.pyplot as plt\n",
    "%matplotlib inline\n",
    "import seaborn as sns\n",
    "sns.set_context(rc={'figure.figsize':(16,8)})"
   ]
  },
  {
   "cell_type": "code",
   "execution_count": 2,
   "metadata": {},
   "outputs": [],
   "source": [
    "train = pd.read_csv('E:/DataFiles/LTFS/train.csv')\n",
    "test = pd.read_csv('E:/DataFiles/LTFS/test.csv')\n",
    "sample_submission = pd.read_csv('E:/DataFiles/LTFS/sample_submission.csv')"
   ]
  },
  {
   "cell_type": "code",
   "execution_count": 3,
   "metadata": {},
   "outputs": [
    {
     "data": {
      "text/html": [
       "<div>\n",
       "<style scoped>\n",
       "    .dataframe tbody tr th:only-of-type {\n",
       "        vertical-align: middle;\n",
       "    }\n",
       "\n",
       "    .dataframe tbody tr th {\n",
       "        vertical-align: top;\n",
       "    }\n",
       "\n",
       "    .dataframe thead th {\n",
       "        text-align: right;\n",
       "    }\n",
       "</style>\n",
       "<table border=\"1\" class=\"dataframe\">\n",
       "  <thead>\n",
       "    <tr style=\"text-align: right;\">\n",
       "      <th></th>\n",
       "      <th>application_date</th>\n",
       "      <th>segment</th>\n",
       "      <th>branch_id</th>\n",
       "      <th>state</th>\n",
       "      <th>zone</th>\n",
       "      <th>case_count</th>\n",
       "    </tr>\n",
       "  </thead>\n",
       "  <tbody>\n",
       "    <tr>\n",
       "      <th>0</th>\n",
       "      <td>2017-04-01</td>\n",
       "      <td>1</td>\n",
       "      <td>1.0</td>\n",
       "      <td>WEST BENGAL</td>\n",
       "      <td>EAST</td>\n",
       "      <td>40</td>\n",
       "    </tr>\n",
       "    <tr>\n",
       "      <th>1</th>\n",
       "      <td>2017-04-03</td>\n",
       "      <td>1</td>\n",
       "      <td>1.0</td>\n",
       "      <td>WEST BENGAL</td>\n",
       "      <td>EAST</td>\n",
       "      <td>5</td>\n",
       "    </tr>\n",
       "    <tr>\n",
       "      <th>2</th>\n",
       "      <td>2017-04-04</td>\n",
       "      <td>1</td>\n",
       "      <td>1.0</td>\n",
       "      <td>WEST BENGAL</td>\n",
       "      <td>EAST</td>\n",
       "      <td>4</td>\n",
       "    </tr>\n",
       "    <tr>\n",
       "      <th>3</th>\n",
       "      <td>2017-04-05</td>\n",
       "      <td>1</td>\n",
       "      <td>1.0</td>\n",
       "      <td>WEST BENGAL</td>\n",
       "      <td>EAST</td>\n",
       "      <td>113</td>\n",
       "    </tr>\n",
       "    <tr>\n",
       "      <th>4</th>\n",
       "      <td>2017-04-07</td>\n",
       "      <td>1</td>\n",
       "      <td>1.0</td>\n",
       "      <td>WEST BENGAL</td>\n",
       "      <td>EAST</td>\n",
       "      <td>76</td>\n",
       "    </tr>\n",
       "    <tr>\n",
       "      <th>...</th>\n",
       "      <td>...</td>\n",
       "      <td>...</td>\n",
       "      <td>...</td>\n",
       "      <td>...</td>\n",
       "      <td>...</td>\n",
       "      <td>...</td>\n",
       "    </tr>\n",
       "    <tr>\n",
       "      <th>80397</th>\n",
       "      <td>2019-07-19</td>\n",
       "      <td>2</td>\n",
       "      <td>NaN</td>\n",
       "      <td>WEST BENGAL</td>\n",
       "      <td>NaN</td>\n",
       "      <td>1886</td>\n",
       "    </tr>\n",
       "    <tr>\n",
       "      <th>80398</th>\n",
       "      <td>2019-07-20</td>\n",
       "      <td>2</td>\n",
       "      <td>NaN</td>\n",
       "      <td>WEST BENGAL</td>\n",
       "      <td>NaN</td>\n",
       "      <td>1480</td>\n",
       "    </tr>\n",
       "    <tr>\n",
       "      <th>80399</th>\n",
       "      <td>2019-07-21</td>\n",
       "      <td>2</td>\n",
       "      <td>NaN</td>\n",
       "      <td>WEST BENGAL</td>\n",
       "      <td>NaN</td>\n",
       "      <td>1028</td>\n",
       "    </tr>\n",
       "    <tr>\n",
       "      <th>80400</th>\n",
       "      <td>2019-07-22</td>\n",
       "      <td>2</td>\n",
       "      <td>NaN</td>\n",
       "      <td>WEST BENGAL</td>\n",
       "      <td>NaN</td>\n",
       "      <td>1946</td>\n",
       "    </tr>\n",
       "    <tr>\n",
       "      <th>80401</th>\n",
       "      <td>2019-07-23</td>\n",
       "      <td>2</td>\n",
       "      <td>NaN</td>\n",
       "      <td>WEST BENGAL</td>\n",
       "      <td>NaN</td>\n",
       "      <td>1984</td>\n",
       "    </tr>\n",
       "  </tbody>\n",
       "</table>\n",
       "<p>80402 rows × 6 columns</p>\n",
       "</div>"
      ],
      "text/plain": [
       "      application_date  segment  branch_id        state  zone  case_count\n",
       "0           2017-04-01        1        1.0  WEST BENGAL  EAST          40\n",
       "1           2017-04-03        1        1.0  WEST BENGAL  EAST           5\n",
       "2           2017-04-04        1        1.0  WEST BENGAL  EAST           4\n",
       "3           2017-04-05        1        1.0  WEST BENGAL  EAST         113\n",
       "4           2017-04-07        1        1.0  WEST BENGAL  EAST          76\n",
       "...                ...      ...        ...          ...   ...         ...\n",
       "80397       2019-07-19        2        NaN  WEST BENGAL   NaN        1886\n",
       "80398       2019-07-20        2        NaN  WEST BENGAL   NaN        1480\n",
       "80399       2019-07-21        2        NaN  WEST BENGAL   NaN        1028\n",
       "80400       2019-07-22        2        NaN  WEST BENGAL   NaN        1946\n",
       "80401       2019-07-23        2        NaN  WEST BENGAL   NaN        1984\n",
       "\n",
       "[80402 rows x 6 columns]"
      ]
     },
     "execution_count": 3,
     "metadata": {},
     "output_type": "execute_result"
    }
   ],
   "source": [
    "train"
   ]
  },
  {
   "cell_type": "code",
   "execution_count": 4,
   "metadata": {},
   "outputs": [
    {
     "name": "stdout",
     "output_type": "stream",
     "text": [
      "<class 'pandas.core.frame.DataFrame'>\n",
      "RangeIndex: 80402 entries, 0 to 80401\n",
      "Data columns (total 6 columns):\n",
      "application_date    80402 non-null object\n",
      "segment             80402 non-null int64\n",
      "branch_id           66898 non-null float64\n",
      "state               80402 non-null object\n",
      "zone                66898 non-null object\n",
      "case_count          80402 non-null int64\n",
      "dtypes: float64(1), int64(2), object(3)\n",
      "memory usage: 3.7+ MB\n"
     ]
    }
   ],
   "source": [
    "train.info()"
   ]
  },
  {
   "cell_type": "code",
   "execution_count": 5,
   "metadata": {},
   "outputs": [],
   "source": [
    "train['application_date'] = pd.to_datetime(train['application_date'], format='%Y-%m-%d')\n",
    "test['application_date'] = pd.to_datetime(test['application_date'], format='%Y-%m-%d')"
   ]
  },
  {
   "cell_type": "code",
   "execution_count": 6,
   "metadata": {},
   "outputs": [],
   "source": [
    "train['application_date'] = pd.to_datetime(train['application_date'], format='%Y-%m-%d')\n",
    "train.drop(['branch_id', 'state', 'zone'], axis=1, inplace=True)\n",
    "train1 = train[train['segment']==1].groupby(['application_date','segment']).sum().reset_index()\n",
    "train2 = train[train['segment']==2].groupby(['application_date','segment']).sum().reset_index()"
   ]
  },
  {
   "cell_type": "code",
   "execution_count": 7,
   "metadata": {},
   "outputs": [],
   "source": [
    "testset = test.drop(['id'], axis=1)\n",
    "test1 = testset[testset['segment']==1].groupby(['application_date','segment']).sum().reset_index()\n",
    "test2 = testset[testset['segment']==2].groupby(['application_date','segment']).sum().reset_index()"
   ]
  },
  {
   "cell_type": "code",
   "execution_count": 8,
   "metadata": {},
   "outputs": [
    {
     "name": "stdout",
     "output_type": "stream",
     "text": [
      "2017-01-14 Makar Sankranti / Pongal\n",
      "2017-01-26 Republic Day\n",
      "2017-04-14 Dr. B. R. Ambedkar's Jayanti\n",
      "2017-05-01 Maharashtra Day, Labour Day\n",
      "2017-08-15 Independence Day\n",
      "2017-10-02 Gandhi Jayanti\n",
      "2017-12-25 Christmas\n",
      "2018-01-14 Makar Sankranti / Pongal\n",
      "2018-01-26 Republic Day\n",
      "2018-04-14 Dr. B. R. Ambedkar's Jayanti\n",
      "2018-05-01 Maharashtra Day, Labour Day\n",
      "2018-08-15 Independence Day\n",
      "2018-10-02 Gandhi Jayanti\n",
      "2018-12-25 Christmas\n",
      "2019-01-14 Makar Sankranti / Pongal\n",
      "2019-01-26 Republic Day\n",
      "2019-04-14 Dr. B. R. Ambedkar's Jayanti\n",
      "2019-05-01 Maharashtra Day, Labour Day\n",
      "2019-08-15 Independence Day\n",
      "2019-10-02 Gandhi Jayanti\n",
      "2019-12-25 Christmas\n",
      "2020-01-14 Makar Sankranti / Pongal\n",
      "2020-01-26 Republic Day\n",
      "2020-04-14 Dr. B. R. Ambedkar's Jayanti\n",
      "2020-05-01 Maharashtra Day, Labour Day\n",
      "2020-08-15 Independence Day\n",
      "2020-10-02 Gandhi Jayanti\n",
      "2020-12-25 Christmas\n"
     ]
    },
    {
     "data": {
      "text/plain": [
       "[Timestamp('2017-01-14 00:00:00'),\n",
       " Timestamp('2017-01-26 00:00:00'),\n",
       " Timestamp('2017-04-14 00:00:00'),\n",
       " Timestamp('2017-05-01 00:00:00'),\n",
       " Timestamp('2017-08-15 00:00:00'),\n",
       " Timestamp('2017-10-02 00:00:00'),\n",
       " Timestamp('2017-12-25 00:00:00'),\n",
       " Timestamp('2018-01-14 00:00:00'),\n",
       " Timestamp('2018-01-26 00:00:00'),\n",
       " Timestamp('2018-04-14 00:00:00'),\n",
       " Timestamp('2018-05-01 00:00:00'),\n",
       " Timestamp('2018-08-15 00:00:00'),\n",
       " Timestamp('2018-10-02 00:00:00'),\n",
       " Timestamp('2018-12-25 00:00:00'),\n",
       " Timestamp('2019-01-14 00:00:00'),\n",
       " Timestamp('2019-01-26 00:00:00'),\n",
       " Timestamp('2019-04-14 00:00:00'),\n",
       " Timestamp('2019-05-01 00:00:00'),\n",
       " Timestamp('2019-08-15 00:00:00'),\n",
       " Timestamp('2019-10-02 00:00:00'),\n",
       " Timestamp('2019-12-25 00:00:00'),\n",
       " Timestamp('2020-01-14 00:00:00'),\n",
       " Timestamp('2020-01-26 00:00:00'),\n",
       " Timestamp('2020-04-14 00:00:00'),\n",
       " Timestamp('2020-05-01 00:00:00'),\n",
       " Timestamp('2020-08-15 00:00:00'),\n",
       " Timestamp('2020-10-02 00:00:00'),\n",
       " Timestamp('2020-12-25 00:00:00')]"
      ]
     },
     "execution_count": 8,
     "metadata": {},
     "output_type": "execute_result"
    }
   ],
   "source": [
    "hol = []\n",
    "for date, name in sorted(holidays.IND(prov='MH', years=[2017, 2018, 2019, 2020]).items()):\n",
    "    print(date, name)\n",
    "    hol.append(date)\n",
    "hol = [pd.to_datetime(i) for i in hol]\n",
    "hol"
   ]
  },
  {
   "cell_type": "code",
   "execution_count": 9,
   "metadata": {},
   "outputs": [],
   "source": [
    "def add_date_features(df):\n",
    "    df['year'] = df['application_date'].dt.year\n",
    "    df['month'] = df['application_date'].dt.month\n",
    "    df['day'] = df['application_date'].dt.day\n",
    "    df['week'] = df['application_date'].dt.week\n",
    "    df['dayofweek'] = df['application_date'].dt.dayofweek\n",
    "    df['dayofyear'] = df['application_date'].dt.dayofyear\n",
    "    df['quarter'] = df['application_date'].dt.quarter\n",
    "    df['is_month_start'] = df['application_date'].dt.is_month_start\n",
    "    df['is_month_end'] = df['application_date'].dt.is_month_end\n",
    "    df['is_quarter_start'] = df['application_date'].dt.is_quarter_start\n",
    "    df['is_quarter_end'] = df['application_date'].dt.is_quarter_end\n",
    "    df['is_year_start'] = df['application_date'].dt.is_year_start\n",
    "    df['is_year_end'] = df['application_date'].dt.is_year_end\n",
    "    df['is_holiday'] = df['application_date'].isin(hol)\n",
    "    df['semester'] = np.where(df['quarter'].isin([1,2]), 1,2)\n",
    "    return df\n",
    "\n",
    "train1 = add_date_features(train1)\n",
    "train1.drop(['application_date', 'segment'], axis=1, inplace=True)\n",
    "train2 = add_date_features(train2)\n",
    "train2.drop(['application_date', 'segment'], axis=1, inplace=True)\n",
    "\n",
    "test1 = add_date_features(test1)\n",
    "test1.drop(['application_date', 'segment'], axis=1, inplace=True)\n",
    "test2 = add_date_features(test2)\n",
    "test2.drop(['application_date', 'segment'], axis=1, inplace=True)\n"
   ]
  },
  {
   "cell_type": "code",
   "execution_count": 10,
   "metadata": {},
   "outputs": [
    {
     "data": {
      "text/plain": [
       "((806, 16), (844, 16), (180, 3))"
      ]
     },
     "execution_count": 10,
     "metadata": {},
     "output_type": "execute_result"
    }
   ],
   "source": [
    "train1.shape, train2.shape, test.shape"
   ]
  },
  {
   "cell_type": "code",
   "execution_count": 11,
   "metadata": {},
   "outputs": [
    {
     "name": "stdout",
     "output_type": "stream",
     "text": [
      "3.8995773334820756\n"
     ]
    },
    {
     "data": {
      "text/plain": [
       "<matplotlib.axes._subplots.AxesSubplot at 0x2b9b944a390>"
      ]
     },
     "execution_count": 11,
     "metadata": {},
     "output_type": "execute_result"
    },
    {
     "data": {
      "image/png": "[encoded data removed]",
      "text/plain": [
       "<Figure size 432x288 with 1 Axes>"
      ]
     },
     "metadata": {
      "needs_background": "light"
     },
     "output_type": "display_data"
    }
   ],
   "source": [
    "print(train1['case_count'].skew())\n",
    "sns.distplot(train1['case_count'])"
   ]
  },
  {
   "cell_type": "code",
   "execution_count": 12,
   "metadata": {},
   "outputs": [
    {
     "data": {
      "text/plain": [
       "(789, 16)"
      ]
     },
     "execution_count": 12,
     "metadata": {},
     "output_type": "execute_result"
    }
   ],
   "source": [
    "train1_95 = train1[train1['case_count']<train1['case_count'].quantile(0.98)].reset_index(drop=True)\n",
    "train1_95.shape"
   ]
  },
  {
   "cell_type": "code",
   "execution_count": 13,
   "metadata": {},
   "outputs": [
    {
     "name": "stdout",
     "output_type": "stream",
     "text": [
      "0.31180463975703065\n"
     ]
    },
    {
     "data": {
      "text/plain": [
       "<matplotlib.axes._subplots.AxesSubplot at 0x2b9b95c7438>"
      ]
     },
     "execution_count": 13,
     "metadata": {},
     "output_type": "execute_result"
    },
    {
     "data": {
      "image/png": "[encoded data removed]",
      "text/plain": [
       "<Figure size 432x288 with 1 Axes>"
      ]
     },
     "metadata": {
      "needs_background": "light"
     },
     "output_type": "display_data"
    }
   ],
   "source": [
    "print(train1_95['case_count'].skew())\n",
    "sns.distplot(train1_95['case_count'])"
   ]
  },
  {
   "cell_type": "code",
   "execution_count": 14,
   "metadata": {},
   "outputs": [
    {
     "name": "stdout",
     "output_type": "stream",
     "text": [
      "0.3592138065038034\n"
     ]
    },
    {
     "data": {
      "text/plain": [
       "<matplotlib.axes._subplots.AxesSubplot at 0x2b9b9a60198>"
      ]
     },
     "execution_count": 14,
     "metadata": {},
     "output_type": "execute_result"
    },
    {
     "data": {
      "image/png": "[encoded data removed]",
      "text/plain": [
       "<Figure size 432x288 with 1 Axes>"
      ]
     },
     "metadata": {
      "needs_background": "light"
     },
     "output_type": "display_data"
    }
   ],
   "source": [
    "print(train2['case_count'].skew())\n",
    "sns.distplot(train2['case_count'])"
   ]
  },
  {
   "cell_type": "code",
   "execution_count": 15,
   "metadata": {},
   "outputs": [
    {
     "data": {
      "text/plain": [
       "(801, 16)"
      ]
     },
     "execution_count": 15,
     "metadata": {},
     "output_type": "execute_result"
    }
   ],
   "source": [
    "train2_98 = train2[train2['case_count']<train2['case_count'].quantile(0.95)].reset_index(drop=True)\n",
    "train2_98.shape"
   ]
  },
  {
   "cell_type": "code",
   "execution_count": 16,
   "metadata": {},
   "outputs": [
    {
     "name": "stdout",
     "output_type": "stream",
     "text": [
      "0.3531291733846725\n"
     ]
    },
    {
     "data": {
      "text/plain": [
       "<matplotlib.axes._subplots.AxesSubplot at 0x2b9b9a99f60>"
      ]
     },
     "execution_count": 16,
     "metadata": {},
     "output_type": "execute_result"
    },
    {
     "data": {
      "image/png": "[encoded data removed]",
      "text/plain": [
       "<Figure size 432x288 with 1 Axes>"
      ]
     },
     "metadata": {
      "needs_background": "light"
     },
     "output_type": "display_data"
    }
   ],
   "source": [
    "print(train2_98['case_count'].skew())\n",
    "sns.distplot(train2_98['case_count'])"
   ]
  },
  {
   "cell_type": "code",
   "execution_count": 17,
   "metadata": {},
   "outputs": [
    {
     "data": {
      "text/plain": [
       "((780, 16), (843, 16))"
      ]
     },
     "execution_count": 17,
     "metadata": {},
     "output_type": "execute_result"
    }
   ],
   "source": [
    "# train1 = train1_95.copy()\n",
    "# train2 = train2_98.copy()\n",
    "train1 = train1[train1['case_count'] > 15].reset_index(drop=True)\n",
    "train1 = train1[train1['case_count'] <= 8000].reset_index(drop=True)\n",
    "train2 = train2[train2['case_count'] < 40000].reset_index(drop=True)\n",
    "train1.shape, train2.shape"
   ]
  },
  {
   "cell_type": "code",
   "execution_count": 18,
   "metadata": {},
   "outputs": [],
   "source": [
    "def MAPE(y_true, y_pred):\n",
    "    y_true, y_pred = np.array(y_true), np.array(y_pred)\n",
    "    return np.mean(np.abs((y_true-y_pred)/y_true)*100)"
   ]
  },
  {
   "cell_type": "markdown",
   "metadata": {},
   "source": [
    "## Train Test Split 1"
   ]
  },
  {
   "cell_type": "code",
   "execution_count": 19,
   "metadata": {},
   "outputs": [],
   "source": [
    "target1 = train1['case_count']\n",
    "train1.drop(['case_count'], axis=1, inplace=True)"
   ]
  },
  {
   "cell_type": "code",
   "execution_count": 20,
   "metadata": {},
   "outputs": [
    {
     "data": {
      "text/plain": [
       "((585, 15), (585,), (195, 15), (195,))"
      ]
     },
     "execution_count": 20,
     "metadata": {},
     "output_type": "execute_result"
    }
   ],
   "source": [
    "X_train1, X_test1, y_train1, y_test1 = train_test_split(train1, target1, test_size=0.25, random_state=42)\n",
    "X_train1.shape, y_train1.shape, X_test1.shape, y_test1.shape"
   ]
  },
  {
   "cell_type": "code",
   "execution_count": 21,
   "metadata": {},
   "outputs": [
    {
     "name": "stdout",
     "output_type": "stream",
     "text": [
      "MAPE:  287.3896011342917\n"
     ]
    }
   ],
   "source": [
    "br = BaggingRegressor(random_state=0)\n",
    "br.fit(X_train1, y_train1)\n",
    "y_pred1 = br.predict(X_test1)\n",
    "# print(\"RMSE: \",mean_squared_error(y_test1, y_pred1, squared=False))\n",
    "print(\"MAPE: \",MAPE(y_test1, y_pred1))"
   ]
  },
  {
   "cell_type": "markdown",
   "metadata": {},
   "source": [
    "## Train Test Split 2"
   ]
  },
  {
   "cell_type": "code",
   "execution_count": 22,
   "metadata": {},
   "outputs": [],
   "source": [
    "target2 = train2['case_count']\n",
    "train2.drop(['case_count'], axis=1, inplace=True)"
   ]
  },
  {
   "cell_type": "code",
   "execution_count": 23,
   "metadata": {},
   "outputs": [
    {
     "data": {
      "text/plain": [
       "((632, 15), (632,), (211, 15), (211,))"
      ]
     },
     "execution_count": 23,
     "metadata": {},
     "output_type": "execute_result"
    }
   ],
   "source": [
    "X_train2, X_test2, y_train2, y_test2 = train_test_split(train2, target2, test_size=0.25, random_state=42)\n",
    "X_train2.shape, y_train2.shape, X_test2.shape, y_test2.shape"
   ]
  },
  {
   "cell_type": "code",
   "execution_count": 24,
   "metadata": {},
   "outputs": [
    {
     "name": "stdout",
     "output_type": "stream",
     "text": [
      "MAPE:  23.56483789823521\n"
     ]
    }
   ],
   "source": [
    "br = BaggingRegressor(random_state=0)\n",
    "br.fit(X_train2, y_train2)\n",
    "y_pred2 = br.predict(X_test2)\n",
    "# print(\"RMSE: \",mean_squared_error(y_test2, y_pred2, squared=False))\n",
    "print(\"MAPE: \",MAPE(y_test2, y_pred2))"
   ]
  },
  {
   "cell_type": "markdown",
   "metadata": {},
   "source": [
    "## Business Segment 1"
   ]
  },
  {
   "cell_type": "code",
   "execution_count": 25,
   "metadata": {},
   "outputs": [
    {
     "name": "stdout",
     "output_type": "stream",
     "text": [
      "Mape :  129.6920155259152\n",
      "Mape :  61.49852926670652\n",
      "Mape :  86.63891527263576\n",
      "Mape :  357.45578012011254\n",
      "Mape :  72.5464676217962\n",
      "Mape :  86.444508301334\n",
      "Mape :  84.95542577344699\n",
      "Mape :  80.96200481558085\n",
      "Mape :  19.59560152139075\n",
      "Mape :  132.3282498612436\n",
      "Mape :  88.53248706299813\n",
      "Mape :  32.42368600942615\n",
      "Mape :  59.12206746576454\n",
      "Mape :  224.20767094890556\n",
      "Mape :  124.62315325814104\n",
      "Average MAPE :  109.40177085502653\n"
     ]
    }
   ],
   "source": [
    "y_pred_test1 = []\n",
    "err_all1 = []\n",
    "for train_index, test_index in KFold(n_splits=15, shuffle=True, random_state=101).split(train1):\n",
    "    X_train1, X_test1 = train1.loc[train_index], train1.loc[test_index]\n",
    "    y_train1, y_test1 = target1.loc[train_index], target1.loc[test_index]\n",
    "    br1 = BaggingRegressor(n_estimators=10, random_state=1)\n",
    "    br1.fit(X_train1, y_train1)\n",
    "    y_pred1 = br1.predict(X_test1)\n",
    "    error1 = MAPE(y_test1, y_pred1)\n",
    "    err_all1.append(error1)\n",
    "    print('Mape : ', error1)\n",
    "    p1 = br1.predict(test1)\n",
    "    y_pred_test1.append(p1)\n",
    "print('Average MAPE : ', np.mean(err_all1))  "
   ]
  },
  {
   "cell_type": "code",
   "execution_count": 26,
   "metadata": {},
   "outputs": [
    {
     "data": {
      "text/html": [
       "<div>\n",
       "<style scoped>\n",
       "    .dataframe tbody tr th:only-of-type {\n",
       "        vertical-align: middle;\n",
       "    }\n",
       "\n",
       "    .dataframe tbody tr th {\n",
       "        vertical-align: top;\n",
       "    }\n",
       "\n",
       "    .dataframe thead th {\n",
       "        text-align: right;\n",
       "    }\n",
       "</style>\n",
       "<table border=\"1\" class=\"dataframe\">\n",
       "  <thead>\n",
       "    <tr style=\"text-align: right;\">\n",
       "      <th></th>\n",
       "      <th>year</th>\n",
       "      <th>month</th>\n",
       "      <th>day</th>\n",
       "      <th>week</th>\n",
       "      <th>dayofweek</th>\n",
       "      <th>dayofyear</th>\n",
       "      <th>quarter</th>\n",
       "      <th>is_month_start</th>\n",
       "      <th>is_month_end</th>\n",
       "      <th>is_quarter_start</th>\n",
       "      <th>is_quarter_end</th>\n",
       "      <th>is_year_start</th>\n",
       "      <th>is_year_end</th>\n",
       "      <th>is_holiday</th>\n",
       "      <th>semester</th>\n",
       "      <th>case_count</th>\n",
       "    </tr>\n",
       "  </thead>\n",
       "  <tbody>\n",
       "    <tr>\n",
       "      <th>0</th>\n",
       "      <td>2019</td>\n",
       "      <td>7</td>\n",
       "      <td>6</td>\n",
       "      <td>27</td>\n",
       "      <td>5</td>\n",
       "      <td>187</td>\n",
       "      <td>3</td>\n",
       "      <td>False</td>\n",
       "      <td>False</td>\n",
       "      <td>False</td>\n",
       "      <td>False</td>\n",
       "      <td>False</td>\n",
       "      <td>False</td>\n",
       "      <td>False</td>\n",
       "      <td>2</td>\n",
       "      <td>2855.666667</td>\n",
       "    </tr>\n",
       "    <tr>\n",
       "      <th>1</th>\n",
       "      <td>2019</td>\n",
       "      <td>7</td>\n",
       "      <td>7</td>\n",
       "      <td>27</td>\n",
       "      <td>6</td>\n",
       "      <td>188</td>\n",
       "      <td>3</td>\n",
       "      <td>False</td>\n",
       "      <td>False</td>\n",
       "      <td>False</td>\n",
       "      <td>False</td>\n",
       "      <td>False</td>\n",
       "      <td>False</td>\n",
       "      <td>False</td>\n",
       "      <td>2</td>\n",
       "      <td>1741.900000</td>\n",
       "    </tr>\n",
       "    <tr>\n",
       "      <th>2</th>\n",
       "      <td>2019</td>\n",
       "      <td>7</td>\n",
       "      <td>8</td>\n",
       "      <td>28</td>\n",
       "      <td>0</td>\n",
       "      <td>189</td>\n",
       "      <td>3</td>\n",
       "      <td>False</td>\n",
       "      <td>False</td>\n",
       "      <td>False</td>\n",
       "      <td>False</td>\n",
       "      <td>False</td>\n",
       "      <td>False</td>\n",
       "      <td>False</td>\n",
       "      <td>2</td>\n",
       "      <td>4101.073333</td>\n",
       "    </tr>\n",
       "    <tr>\n",
       "      <th>3</th>\n",
       "      <td>2019</td>\n",
       "      <td>7</td>\n",
       "      <td>9</td>\n",
       "      <td>28</td>\n",
       "      <td>1</td>\n",
       "      <td>190</td>\n",
       "      <td>3</td>\n",
       "      <td>False</td>\n",
       "      <td>False</td>\n",
       "      <td>False</td>\n",
       "      <td>False</td>\n",
       "      <td>False</td>\n",
       "      <td>False</td>\n",
       "      <td>False</td>\n",
       "      <td>2</td>\n",
       "      <td>3509.800000</td>\n",
       "    </tr>\n",
       "    <tr>\n",
       "      <th>4</th>\n",
       "      <td>2019</td>\n",
       "      <td>7</td>\n",
       "      <td>10</td>\n",
       "      <td>28</td>\n",
       "      <td>2</td>\n",
       "      <td>191</td>\n",
       "      <td>3</td>\n",
       "      <td>False</td>\n",
       "      <td>False</td>\n",
       "      <td>False</td>\n",
       "      <td>False</td>\n",
       "      <td>False</td>\n",
       "      <td>False</td>\n",
       "      <td>False</td>\n",
       "      <td>2</td>\n",
       "      <td>3678.080000</td>\n",
       "    </tr>\n",
       "    <tr>\n",
       "      <th>...</th>\n",
       "      <td>...</td>\n",
       "      <td>...</td>\n",
       "      <td>...</td>\n",
       "      <td>...</td>\n",
       "      <td>...</td>\n",
       "      <td>...</td>\n",
       "      <td>...</td>\n",
       "      <td>...</td>\n",
       "      <td>...</td>\n",
       "      <td>...</td>\n",
       "      <td>...</td>\n",
       "      <td>...</td>\n",
       "      <td>...</td>\n",
       "      <td>...</td>\n",
       "      <td>...</td>\n",
       "      <td>...</td>\n",
       "    </tr>\n",
       "    <tr>\n",
       "      <th>82</th>\n",
       "      <td>2019</td>\n",
       "      <td>9</td>\n",
       "      <td>26</td>\n",
       "      <td>39</td>\n",
       "      <td>3</td>\n",
       "      <td>269</td>\n",
       "      <td>3</td>\n",
       "      <td>False</td>\n",
       "      <td>False</td>\n",
       "      <td>False</td>\n",
       "      <td>False</td>\n",
       "      <td>False</td>\n",
       "      <td>False</td>\n",
       "      <td>False</td>\n",
       "      <td>2</td>\n",
       "      <td>3417.580000</td>\n",
       "    </tr>\n",
       "    <tr>\n",
       "      <th>83</th>\n",
       "      <td>2019</td>\n",
       "      <td>9</td>\n",
       "      <td>27</td>\n",
       "      <td>39</td>\n",
       "      <td>4</td>\n",
       "      <td>270</td>\n",
       "      <td>3</td>\n",
       "      <td>False</td>\n",
       "      <td>False</td>\n",
       "      <td>False</td>\n",
       "      <td>False</td>\n",
       "      <td>False</td>\n",
       "      <td>False</td>\n",
       "      <td>False</td>\n",
       "      <td>2</td>\n",
       "      <td>3450.440000</td>\n",
       "    </tr>\n",
       "    <tr>\n",
       "      <th>84</th>\n",
       "      <td>2019</td>\n",
       "      <td>9</td>\n",
       "      <td>28</td>\n",
       "      <td>39</td>\n",
       "      <td>5</td>\n",
       "      <td>271</td>\n",
       "      <td>3</td>\n",
       "      <td>False</td>\n",
       "      <td>False</td>\n",
       "      <td>False</td>\n",
       "      <td>False</td>\n",
       "      <td>False</td>\n",
       "      <td>False</td>\n",
       "      <td>False</td>\n",
       "      <td>2</td>\n",
       "      <td>3050.960000</td>\n",
       "    </tr>\n",
       "    <tr>\n",
       "      <th>85</th>\n",
       "      <td>2019</td>\n",
       "      <td>9</td>\n",
       "      <td>29</td>\n",
       "      <td>39</td>\n",
       "      <td>6</td>\n",
       "      <td>272</td>\n",
       "      <td>3</td>\n",
       "      <td>False</td>\n",
       "      <td>False</td>\n",
       "      <td>False</td>\n",
       "      <td>False</td>\n",
       "      <td>False</td>\n",
       "      <td>False</td>\n",
       "      <td>False</td>\n",
       "      <td>2</td>\n",
       "      <td>2544.380000</td>\n",
       "    </tr>\n",
       "    <tr>\n",
       "      <th>86</th>\n",
       "      <td>2019</td>\n",
       "      <td>9</td>\n",
       "      <td>30</td>\n",
       "      <td>40</td>\n",
       "      <td>0</td>\n",
       "      <td>273</td>\n",
       "      <td>3</td>\n",
       "      <td>False</td>\n",
       "      <td>True</td>\n",
       "      <td>False</td>\n",
       "      <td>True</td>\n",
       "      <td>False</td>\n",
       "      <td>False</td>\n",
       "      <td>False</td>\n",
       "      <td>2</td>\n",
       "      <td>4524.026667</td>\n",
       "    </tr>\n",
       "  </tbody>\n",
       "</table>\n",
       "<p>87 rows × 16 columns</p>\n",
       "</div>"
      ],
      "text/plain": [
       "    year  month  day  week  dayofweek  dayofyear  quarter  is_month_start  \\\n",
       "0   2019      7    6    27          5        187        3           False   \n",
       "1   2019      7    7    27          6        188        3           False   \n",
       "2   2019      7    8    28          0        189        3           False   \n",
       "3   2019      7    9    28          1        190        3           False   \n",
       "4   2019      7   10    28          2        191        3           False   \n",
       "..   ...    ...  ...   ...        ...        ...      ...             ...   \n",
       "82  2019      9   26    39          3        269        3           False   \n",
       "83  2019      9   27    39          4        270        3           False   \n",
       "84  2019      9   28    39          5        271        3           False   \n",
       "85  2019      9   29    39          6        272        3           False   \n",
       "86  2019      9   30    40          0        273        3           False   \n",
       "\n",
       "    is_month_end  is_quarter_start  is_quarter_end  is_year_start  \\\n",
       "0          False             False           False          False   \n",
       "1          False             False           False          False   \n",
       "2          False             False           False          False   \n",
       "3          False             False           False          False   \n",
       "4          False             False           False          False   \n",
       "..           ...               ...             ...            ...   \n",
       "82         False             False           False          False   \n",
       "83         False             False           False          False   \n",
       "84         False             False           False          False   \n",
       "85         False             False           False          False   \n",
       "86          True             False            True          False   \n",
       "\n",
       "    is_year_end  is_holiday  semester   case_count  \n",
       "0         False       False         2  2855.666667  \n",
       "1         False       False         2  1741.900000  \n",
       "2         False       False         2  4101.073333  \n",
       "3         False       False         2  3509.800000  \n",
       "4         False       False         2  3678.080000  \n",
       "..          ...         ...       ...          ...  \n",
       "82        False       False         2  3417.580000  \n",
       "83        False       False         2  3450.440000  \n",
       "84        False       False         2  3050.960000  \n",
       "85        False       False         2  2544.380000  \n",
       "86        False       False         2  4524.026667  \n",
       "\n",
       "[87 rows x 16 columns]"
      ]
     },
     "execution_count": 26,
     "metadata": {},
     "output_type": "execute_result"
    }
   ],
   "source": [
    "y_pred_test1_m = np.mean(y_pred_test1, 0)\n",
    "test1['case_count'] = y_pred_test1_m\n",
    "test1"
   ]
  },
  {
   "cell_type": "markdown",
   "metadata": {},
   "source": [
    "## Business Segment 2"
   ]
  },
  {
   "cell_type": "code",
   "execution_count": 27,
   "metadata": {},
   "outputs": [
    {
     "name": "stdout",
     "output_type": "stream",
     "text": [
      "Mape :  27.926729008677317\n",
      "Mape :  21.660276860397985\n",
      "Mape :  80.61689593806183\n",
      "Mape :  20.902094950657055\n",
      "Mape :  23.787064739395102\n",
      "Mape :  25.99944745333276\n",
      "Mape :  19.5784546847494\n",
      "Mape :  20.306029903446454\n",
      "Mape :  18.433480143374954\n",
      "Mape :  16.452121637992313\n",
      "Mape :  31.522039255925726\n",
      "Mape :  21.792441534841423\n",
      "Mape :  18.866010096383636\n",
      "Mape :  20.866716979686736\n",
      "Mape :  23.778566112322274\n",
      "Average MAPE :  26.16589128661633\n"
     ]
    }
   ],
   "source": [
    "y_pred_test2 = []\n",
    "err_all2 = []\n",
    "for train_index, test_index in KFold(n_splits=15, shuffle=True, random_state=101).split(train2):\n",
    "    X_train2, X_test2 = train2.loc[train_index], train2.loc[test_index]\n",
    "    y_train2, y_test2 = target2.loc[train_index], target2.loc[test_index]\n",
    "    br2 = BaggingRegressor(random_state=101)\n",
    "    br2.fit(X_train2, y_train2)\n",
    "    y_pred2 = br2.predict(X_test2)\n",
    "    error2 = MAPE(y_test2, y_pred2)\n",
    "    err_all2.append(error2)\n",
    "    print('Mape : ', error2)\n",
    "    p2 = br2.predict(test2)\n",
    "    y_pred_test2.append(p2)\n",
    "print('Average MAPE : ', np.mean(err_all2))"
   ]
  },
  {
   "cell_type": "code",
   "execution_count": 28,
   "metadata": {},
   "outputs": [
    {
     "data": {
      "text/html": [
       "<div>\n",
       "<style scoped>\n",
       "    .dataframe tbody tr th:only-of-type {\n",
       "        vertical-align: middle;\n",
       "    }\n",
       "\n",
       "    .dataframe tbody tr th {\n",
       "        vertical-align: top;\n",
       "    }\n",
       "\n",
       "    .dataframe thead th {\n",
       "        text-align: right;\n",
       "    }\n",
       "</style>\n",
       "<table border=\"1\" class=\"dataframe\">\n",
       "  <thead>\n",
       "    <tr style=\"text-align: right;\">\n",
       "      <th></th>\n",
       "      <th>year</th>\n",
       "      <th>month</th>\n",
       "      <th>day</th>\n",
       "      <th>week</th>\n",
       "      <th>dayofweek</th>\n",
       "      <th>dayofyear</th>\n",
       "      <th>quarter</th>\n",
       "      <th>is_month_start</th>\n",
       "      <th>is_month_end</th>\n",
       "      <th>is_quarter_start</th>\n",
       "      <th>is_quarter_end</th>\n",
       "      <th>is_year_start</th>\n",
       "      <th>is_year_end</th>\n",
       "      <th>is_holiday</th>\n",
       "      <th>semester</th>\n",
       "      <th>case_count</th>\n",
       "    </tr>\n",
       "  </thead>\n",
       "  <tbody>\n",
       "    <tr>\n",
       "      <th>0</th>\n",
       "      <td>2019</td>\n",
       "      <td>7</td>\n",
       "      <td>24</td>\n",
       "      <td>30</td>\n",
       "      <td>2</td>\n",
       "      <td>205</td>\n",
       "      <td>3</td>\n",
       "      <td>False</td>\n",
       "      <td>False</td>\n",
       "      <td>False</td>\n",
       "      <td>False</td>\n",
       "      <td>False</td>\n",
       "      <td>False</td>\n",
       "      <td>False</td>\n",
       "      <td>2</td>\n",
       "      <td>27071.426667</td>\n",
       "    </tr>\n",
       "    <tr>\n",
       "      <th>1</th>\n",
       "      <td>2019</td>\n",
       "      <td>7</td>\n",
       "      <td>25</td>\n",
       "      <td>30</td>\n",
       "      <td>3</td>\n",
       "      <td>206</td>\n",
       "      <td>3</td>\n",
       "      <td>False</td>\n",
       "      <td>False</td>\n",
       "      <td>False</td>\n",
       "      <td>False</td>\n",
       "      <td>False</td>\n",
       "      <td>False</td>\n",
       "      <td>False</td>\n",
       "      <td>2</td>\n",
       "      <td>26214.946667</td>\n",
       "    </tr>\n",
       "    <tr>\n",
       "      <th>2</th>\n",
       "      <td>2019</td>\n",
       "      <td>7</td>\n",
       "      <td>26</td>\n",
       "      <td>30</td>\n",
       "      <td>4</td>\n",
       "      <td>207</td>\n",
       "      <td>3</td>\n",
       "      <td>False</td>\n",
       "      <td>False</td>\n",
       "      <td>False</td>\n",
       "      <td>False</td>\n",
       "      <td>False</td>\n",
       "      <td>False</td>\n",
       "      <td>False</td>\n",
       "      <td>2</td>\n",
       "      <td>24750.640000</td>\n",
       "    </tr>\n",
       "    <tr>\n",
       "      <th>3</th>\n",
       "      <td>2019</td>\n",
       "      <td>7</td>\n",
       "      <td>27</td>\n",
       "      <td>30</td>\n",
       "      <td>5</td>\n",
       "      <td>208</td>\n",
       "      <td>3</td>\n",
       "      <td>False</td>\n",
       "      <td>False</td>\n",
       "      <td>False</td>\n",
       "      <td>False</td>\n",
       "      <td>False</td>\n",
       "      <td>False</td>\n",
       "      <td>False</td>\n",
       "      <td>2</td>\n",
       "      <td>22669.900000</td>\n",
       "    </tr>\n",
       "    <tr>\n",
       "      <th>4</th>\n",
       "      <td>2019</td>\n",
       "      <td>7</td>\n",
       "      <td>28</td>\n",
       "      <td>30</td>\n",
       "      <td>6</td>\n",
       "      <td>209</td>\n",
       "      <td>3</td>\n",
       "      <td>False</td>\n",
       "      <td>False</td>\n",
       "      <td>False</td>\n",
       "      <td>False</td>\n",
       "      <td>False</td>\n",
       "      <td>False</td>\n",
       "      <td>False</td>\n",
       "      <td>2</td>\n",
       "      <td>17053.086667</td>\n",
       "    </tr>\n",
       "    <tr>\n",
       "      <th>...</th>\n",
       "      <td>...</td>\n",
       "      <td>...</td>\n",
       "      <td>...</td>\n",
       "      <td>...</td>\n",
       "      <td>...</td>\n",
       "      <td>...</td>\n",
       "      <td>...</td>\n",
       "      <td>...</td>\n",
       "      <td>...</td>\n",
       "      <td>...</td>\n",
       "      <td>...</td>\n",
       "      <td>...</td>\n",
       "      <td>...</td>\n",
       "      <td>...</td>\n",
       "      <td>...</td>\n",
       "      <td>...</td>\n",
       "    </tr>\n",
       "    <tr>\n",
       "      <th>88</th>\n",
       "      <td>2019</td>\n",
       "      <td>10</td>\n",
       "      <td>20</td>\n",
       "      <td>42</td>\n",
       "      <td>6</td>\n",
       "      <td>293</td>\n",
       "      <td>4</td>\n",
       "      <td>False</td>\n",
       "      <td>False</td>\n",
       "      <td>False</td>\n",
       "      <td>False</td>\n",
       "      <td>False</td>\n",
       "      <td>False</td>\n",
       "      <td>False</td>\n",
       "      <td>2</td>\n",
       "      <td>16117.073333</td>\n",
       "    </tr>\n",
       "    <tr>\n",
       "      <th>89</th>\n",
       "      <td>2019</td>\n",
       "      <td>10</td>\n",
       "      <td>21</td>\n",
       "      <td>43</td>\n",
       "      <td>0</td>\n",
       "      <td>294</td>\n",
       "      <td>4</td>\n",
       "      <td>False</td>\n",
       "      <td>False</td>\n",
       "      <td>False</td>\n",
       "      <td>False</td>\n",
       "      <td>False</td>\n",
       "      <td>False</td>\n",
       "      <td>False</td>\n",
       "      <td>2</td>\n",
       "      <td>22843.113333</td>\n",
       "    </tr>\n",
       "    <tr>\n",
       "      <th>90</th>\n",
       "      <td>2019</td>\n",
       "      <td>10</td>\n",
       "      <td>22</td>\n",
       "      <td>43</td>\n",
       "      <td>1</td>\n",
       "      <td>295</td>\n",
       "      <td>4</td>\n",
       "      <td>False</td>\n",
       "      <td>False</td>\n",
       "      <td>False</td>\n",
       "      <td>False</td>\n",
       "      <td>False</td>\n",
       "      <td>False</td>\n",
       "      <td>False</td>\n",
       "      <td>2</td>\n",
       "      <td>26887.820000</td>\n",
       "    </tr>\n",
       "    <tr>\n",
       "      <th>91</th>\n",
       "      <td>2019</td>\n",
       "      <td>10</td>\n",
       "      <td>23</td>\n",
       "      <td>43</td>\n",
       "      <td>2</td>\n",
       "      <td>296</td>\n",
       "      <td>4</td>\n",
       "      <td>False</td>\n",
       "      <td>False</td>\n",
       "      <td>False</td>\n",
       "      <td>False</td>\n",
       "      <td>False</td>\n",
       "      <td>False</td>\n",
       "      <td>False</td>\n",
       "      <td>2</td>\n",
       "      <td>28374.933333</td>\n",
       "    </tr>\n",
       "    <tr>\n",
       "      <th>92</th>\n",
       "      <td>2019</td>\n",
       "      <td>10</td>\n",
       "      <td>24</td>\n",
       "      <td>43</td>\n",
       "      <td>3</td>\n",
       "      <td>297</td>\n",
       "      <td>4</td>\n",
       "      <td>False</td>\n",
       "      <td>False</td>\n",
       "      <td>False</td>\n",
       "      <td>False</td>\n",
       "      <td>False</td>\n",
       "      <td>False</td>\n",
       "      <td>False</td>\n",
       "      <td>2</td>\n",
       "      <td>28084.480000</td>\n",
       "    </tr>\n",
       "  </tbody>\n",
       "</table>\n",
       "<p>93 rows × 16 columns</p>\n",
       "</div>"
      ],
      "text/plain": [
       "    year  month  day  week  dayofweek  dayofyear  quarter  is_month_start  \\\n",
       "0   2019      7   24    30          2        205        3           False   \n",
       "1   2019      7   25    30          3        206        3           False   \n",
       "2   2019      7   26    30          4        207        3           False   \n",
       "3   2019      7   27    30          5        208        3           False   \n",
       "4   2019      7   28    30          6        209        3           False   \n",
       "..   ...    ...  ...   ...        ...        ...      ...             ...   \n",
       "88  2019     10   20    42          6        293        4           False   \n",
       "89  2019     10   21    43          0        294        4           False   \n",
       "90  2019     10   22    43          1        295        4           False   \n",
       "91  2019     10   23    43          2        296        4           False   \n",
       "92  2019     10   24    43          3        297        4           False   \n",
       "\n",
       "    is_month_end  is_quarter_start  is_quarter_end  is_year_start  \\\n",
       "0          False             False           False          False   \n",
       "1          False             False           False          False   \n",
       "2          False             False           False          False   \n",
       "3          False             False           False          False   \n",
       "4          False             False           False          False   \n",
       "..           ...               ...             ...            ...   \n",
       "88         False             False           False          False   \n",
       "89         False             False           False          False   \n",
       "90         False             False           False          False   \n",
       "91         False             False           False          False   \n",
       "92         False             False           False          False   \n",
       "\n",
       "    is_year_end  is_holiday  semester    case_count  \n",
       "0         False       False         2  27071.426667  \n",
       "1         False       False         2  26214.946667  \n",
       "2         False       False         2  24750.640000  \n",
       "3         False       False         2  22669.900000  \n",
       "4         False       False         2  17053.086667  \n",
       "..          ...         ...       ...           ...  \n",
       "88        False       False         2  16117.073333  \n",
       "89        False       False         2  22843.113333  \n",
       "90        False       False         2  26887.820000  \n",
       "91        False       False         2  28374.933333  \n",
       "92        False       False         2  28084.480000  \n",
       "\n",
       "[93 rows x 16 columns]"
      ]
     },
     "execution_count": 28,
     "metadata": {},
     "output_type": "execute_result"
    }
   ],
   "source": [
    "y_pred_test2_m = np.mean(y_pred_test2, 0)\n",
    "test2['case_count'] = y_pred_test2_m\n",
    "test2"
   ]
  },
  {
   "cell_type": "code",
   "execution_count": 29,
   "metadata": {},
   "outputs": [
    {
     "data": {
      "text/html": [
       "<div>\n",
       "<style scoped>\n",
       "    .dataframe tbody tr th:only-of-type {\n",
       "        vertical-align: middle;\n",
       "    }\n",
       "\n",
       "    .dataframe tbody tr th {\n",
       "        vertical-align: top;\n",
       "    }\n",
       "\n",
       "    .dataframe thead th {\n",
       "        text-align: right;\n",
       "    }\n",
       "</style>\n",
       "<table border=\"1\" class=\"dataframe\">\n",
       "  <thead>\n",
       "    <tr style=\"text-align: right;\">\n",
       "      <th></th>\n",
       "      <th>id</th>\n",
       "      <th>application_date</th>\n",
       "      <th>segment</th>\n",
       "      <th>case_count</th>\n",
       "    </tr>\n",
       "  </thead>\n",
       "  <tbody>\n",
       "    <tr>\n",
       "      <th>0</th>\n",
       "      <td>1</td>\n",
       "      <td>2019-07-06</td>\n",
       "      <td>1</td>\n",
       "      <td>2855.666667</td>\n",
       "    </tr>\n",
       "    <tr>\n",
       "      <th>1</th>\n",
       "      <td>2</td>\n",
       "      <td>2019-07-07</td>\n",
       "      <td>1</td>\n",
       "      <td>1741.900000</td>\n",
       "    </tr>\n",
       "    <tr>\n",
       "      <th>2</th>\n",
       "      <td>3</td>\n",
       "      <td>2019-07-08</td>\n",
       "      <td>1</td>\n",
       "      <td>4101.073333</td>\n",
       "    </tr>\n",
       "    <tr>\n",
       "      <th>3</th>\n",
       "      <td>4</td>\n",
       "      <td>2019-07-09</td>\n",
       "      <td>1</td>\n",
       "      <td>3509.800000</td>\n",
       "    </tr>\n",
       "    <tr>\n",
       "      <th>4</th>\n",
       "      <td>5</td>\n",
       "      <td>2019-07-10</td>\n",
       "      <td>1</td>\n",
       "      <td>3678.080000</td>\n",
       "    </tr>\n",
       "    <tr>\n",
       "      <th>...</th>\n",
       "      <td>...</td>\n",
       "      <td>...</td>\n",
       "      <td>...</td>\n",
       "      <td>...</td>\n",
       "    </tr>\n",
       "    <tr>\n",
       "      <th>175</th>\n",
       "      <td>176</td>\n",
       "      <td>2019-10-20</td>\n",
       "      <td>2</td>\n",
       "      <td>16117.073333</td>\n",
       "    </tr>\n",
       "    <tr>\n",
       "      <th>176</th>\n",
       "      <td>177</td>\n",
       "      <td>2019-10-21</td>\n",
       "      <td>2</td>\n",
       "      <td>22843.113333</td>\n",
       "    </tr>\n",
       "    <tr>\n",
       "      <th>177</th>\n",
       "      <td>178</td>\n",
       "      <td>2019-10-22</td>\n",
       "      <td>2</td>\n",
       "      <td>26887.820000</td>\n",
       "    </tr>\n",
       "    <tr>\n",
       "      <th>178</th>\n",
       "      <td>179</td>\n",
       "      <td>2019-10-23</td>\n",
       "      <td>2</td>\n",
       "      <td>28374.933333</td>\n",
       "    </tr>\n",
       "    <tr>\n",
       "      <th>179</th>\n",
       "      <td>180</td>\n",
       "      <td>2019-10-24</td>\n",
       "      <td>2</td>\n",
       "      <td>28084.480000</td>\n",
       "    </tr>\n",
       "  </tbody>\n",
       "</table>\n",
       "<p>180 rows × 4 columns</p>\n",
       "</div>"
      ],
      "text/plain": [
       "      id application_date  segment    case_count\n",
       "0      1       2019-07-06        1   2855.666667\n",
       "1      2       2019-07-07        1   1741.900000\n",
       "2      3       2019-07-08        1   4101.073333\n",
       "3      4       2019-07-09        1   3509.800000\n",
       "4      5       2019-07-10        1   3678.080000\n",
       "..   ...              ...      ...           ...\n",
       "175  176       2019-10-20        2  16117.073333\n",
       "176  177       2019-10-21        2  22843.113333\n",
       "177  178       2019-10-22        2  26887.820000\n",
       "178  179       2019-10-23        2  28374.933333\n",
       "179  180       2019-10-24        2  28084.480000\n",
       "\n",
       "[180 rows x 4 columns]"
      ]
     },
     "execution_count": 29,
     "metadata": {},
     "output_type": "execute_result"
    }
   ],
   "source": [
    "test['case_count'] = np.concatenate((y_pred_test1_m, y_pred_test2_m))\n",
    "test"
   ]
  },
  {
   "cell_type": "code",
   "execution_count": 30,
   "metadata": {},
   "outputs": [
    {
     "data": {
      "text/html": [
       "<a download=\"MySubmission.csv\" href=\"data:text/csv;base64,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\" target=\"_blank\">Download Submission File</a>"
      ],
      "text/plain": [
       "<IPython.core.display.HTML object>"
      ]
     },
     "execution_count": 30,
     "metadata": {},
     "output_type": "execute_result"
    }
   ],
   "source": [
    "from IPython.display import HTML\n",
    "import base64\n",
    "def create_download_link(df, title='Download Submission File', filename='MySubmission.csv'):\n",
    "    csv = df.to_csv(index=False)\n",
    "    b64 = base64.b64encode(csv.encode())\n",
    "    payload = b64.decode()\n",
    "    html = '<a download=\"{filename}\" href=\"data:text/csv;base64,{payload}\" target=\"_blank\">{title}</a>'\n",
    "    html = html.format(payload=payload, title=title, filename=filename)\n",
    "    return HTML(html)\n",
    "create_download_link(test)"
   ]
  }
 ],
 "metadata": {
  "kernelspec": {
   "display_name": "Python 3",
   "language": "python",
   "name": "python3"
  },
  "language_info": {
   "codemirror_mode": {
    "name": "ipython",
    "version": 3
   },
   "file_extension": ".py",
   "mimetype": "text/x-python",
   "name": "python",
   "nbconvert_exporter": "python",
   "pygments_lexer": "ipython3",
   "version": "3.7.3"
  }
 },
 "nbformat": 4,
 "nbformat_minor": 2
}
